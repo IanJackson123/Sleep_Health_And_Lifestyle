{
 "cells": [
  {
   "cell_type": "markdown",
   "metadata": {},
   "source": [
    "## Installing in BASH - Virtual Environment"
   ]
  },
  {
   "cell_type": "markdown",
   "metadata": {},
   "source": [
    "* .\\.venv\\Scripts\\python -m pip install <package_name>\n",
    "\n",
    "Examples:\n",
    "* .\\.venv\\Scripts\\python -m pip install matplotlib\n",
    "* .\\.venv\\Scripts\\python -m pip install pandas\n",
    "* .\\.venv\\Scripts\\python -m pip install plotly\n"
   ]
  },
  {
   "cell_type": "markdown",
   "metadata": {},
   "source": []
  }
 ],
 "metadata": {
  "kernelspec": {
   "display_name": ".venv",
   "language": "python",
   "name": "python3"
  },
  "language_info": {
   "name": "python",
   "version": "3.11.9"
  }
 },
 "nbformat": 4,
 "nbformat_minor": 2
}
